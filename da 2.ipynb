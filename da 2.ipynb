{
  "nbformat": 4,
  "nbformat_minor": 0,
  "metadata": {
    "colab": {
      "provenance": []
    },
    "kernelspec": {
      "name": "python3",
      "display_name": "Python 3"
    },
    "language_info": {
      "name": "python"
    }
  },
  "cells": [
    {
      "cell_type": "code",
      "execution_count": null,
      "metadata": {
        "colab": {
          "base_uri": "https://localhost:8080/"
        },
        "id": "ZKC94vXU6ggM",
        "outputId": "7744514e-ff72-4b0c-94b6-1bf5f233f443"
      },
      "outputs": [
        {
          "output_type": "stream",
          "name": "stdout",
          "text": [
            "Mounted at /content/drive\n"
          ]
        }
      ],
      "source": [
        "from google.colab import drive\n",
        "drive.mount('/content/drive')"
      ]
    },
    {
      "cell_type": "code",
      "source": [
        "ls drive/MyDrive/"
      ],
      "metadata": {
        "colab": {
          "base_uri": "https://localhost:8080/"
        },
        "id": "IJ4Lgx1I7OJT",
        "outputId": "84e496d4-e89a-4e29-9110-eb515c269b16"
      },
      "execution_count": null,
      "outputs": [
        {
          "output_type": "stream",
          "name": "stdout",
          "text": [
            "'10 th marksheet .pdf'\n",
            "'12 th marksheet .pdf'\n",
            "'aadhar card .pdf'\n",
            "'bank book.pdf'\n",
            " bank_train.csv\n",
            "\u001b[0m\u001b[01;34m'Colab Notebooks'\u001b[0m/\n",
            "'community certificate .pdf'\n",
            "'IMG20240909164329~2 (1).jpg'\n",
            " IMG20240909164329~2.jpg\n",
            " IMG20241021103250.jpg\n",
            " IMG-20241021-WA0004.jpg\n",
            " IMG20241029152859.jpg\n",
            " IMG-20241115-WA0005~2.jpg\n",
            "'Nativity certificate .pdf'\n",
            "'PDF Reader.pdf'\n",
            " Screenshot_2024-09-09-20-38-44-18_ccbe52b0e23c52d29f1b024e2f6eecaa.jpg\n",
            "'web assignment.pdf'\n"
          ]
        }
      ]
    },
    {
      "cell_type": "code",
      "source": [
        "import pandas as pd\n",
        "file=\"/content/drive/MyDrive/bank_train.csv\"\n",
        "df=pd.read_csv(file)\n",
        "print(df.head)"
      ],
      "metadata": {
        "colab": {
          "base_uri": "https://localhost:8080/"
        },
        "id": "Yk0wiLcF8Djx",
        "outputId": "6042631d-49ae-43e2-ca31-7efa6bca7e48"
      },
      "execution_count": null,
      "outputs": [
        {
          "output_type": "stream",
          "name": "stdout",
          "text": [
            "<bound method NDFrame.head of       age          job   marital  education default  balance housing loan  \\\n",
            "0      76      retired   married  secondary      no   2302.0      no   no   \n",
            "1      66      retired  divorced    unknown      no     53.0      no   no   \n",
            "2      51   management   married   tertiary      no   2455.0     yes   no   \n",
            "3      41  blue-collar   married  secondary      no    356.0     yes   no   \n",
            "4      51   technician   married  secondary      no  -1944.0     yes   no   \n",
            "...   ...          ...       ...        ...     ...      ...     ...  ...   \n",
            "4461   33   management   married   tertiary      no    133.0     yes   no   \n",
            "4462   39     services  divorced  secondary      no    687.0     yes   no   \n",
            "4463   40       admin.    single  secondary      no   2040.0     yes   no   \n",
            "4464   31   technician    single  secondary      no    628.0     yes   no   \n",
            "4465   70      retired  divorced    primary      no    383.0      no   no   \n",
            "\n",
            "        contact  day month  duration  campaign  pdays  previous poutcome  \\\n",
            "0     telephone    5   feb       110         1     87         2  failure   \n",
            "1      cellular   12   jul       562         4     -1         0  unknown   \n",
            "2      cellular   21   jul       553         1     -1         0  unknown   \n",
            "3      cellular   14   may        90         5     -1         0  unknown   \n",
            "4      cellular    7   may       623         1     -1         0  unknown   \n",
            "...         ...  ...   ...       ...       ...    ...       ...      ...   \n",
            "4461    unknown   26   may       308         4     -1         0  unknown   \n",
            "4462   cellular    9   jul       869         1     -1         0  unknown   \n",
            "4463   cellular   18   may       906         2    350         2  failure   \n",
            "4464    unknown   12   may      1083         2     -1         0  unknown   \n",
            "4465   cellular   28   apr        50         2     -1         0  unknown   \n",
            "\n",
            "     deposit  \n",
            "0         no  \n",
            "1        yes  \n",
            "2        yes  \n",
            "3         no  \n",
            "4        yes  \n",
            "...      ...  \n",
            "4461      no  \n",
            "4462     yes  \n",
            "4463     yes  \n",
            "4464      no  \n",
            "4465      no  \n",
            "\n",
            "[4466 rows x 17 columns]>\n"
          ]
        }
      ]
    },
    {
      "cell_type": "code",
      "source": [
        "primary_subscribed = df.loc[(df['education'] == 'primary') & (df['deposit'] == 'yes')]\n",
        "print(primary_subscribed)"
      ],
      "metadata": {
        "colab": {
          "base_uri": "https://localhost:8080/"
        },
        "id": "W6_7WHvT8mjB",
        "outputId": "f568811d-983e-4f16-ab94-d2a5f2f54cb2"
      },
      "execution_count": null,
      "outputs": [
        {
          "output_type": "stream",
          "name": "stdout",
          "text": [
            "      age          job   marital education default  balance housing loan  \\\n",
            "29     39  blue-collar  divorced   primary      no   1317.0     yes   no   \n",
            "39     31   unemployed    single   primary      no    163.0      no   no   \n",
            "56     49  blue-collar    single   primary      no    566.0     yes   no   \n",
            "66     53  blue-collar   married   primary     yes   -462.0      no   no   \n",
            "103    42  blue-collar    single   primary      no   4930.0      no   no   \n",
            "...   ...          ...       ...       ...     ...      ...     ...  ...   \n",
            "4411   55    housemaid   married   primary      no      0.0     yes   no   \n",
            "4422   80      retired   married   primary      no   1468.0      no   no   \n",
            "4451   41  blue-collar   married   primary      no    143.0     yes  yes   \n",
            "4452   53  blue-collar   married   primary      no    421.0     yes   no   \n",
            "4458   32  blue-collar   married   primary      no   -454.0     yes  yes   \n",
            "\n",
            "       contact  day month  duration  campaign  pdays  previous poutcome  \\\n",
            "29    cellular   20   nov       543         1    170         4    other   \n",
            "39    cellular   30   jan       707         2      2         1    other   \n",
            "56    cellular   25   jul       979         2     -1         0  unknown   \n",
            "66    cellular   29   jan       470         1     -1         0  unknown   \n",
            "103    unknown   18   jun       973         1     -1         0  unknown   \n",
            "...        ...  ...   ...       ...       ...    ...       ...      ...   \n",
            "4411  cellular   17   jul      1303         2     -1         0  unknown   \n",
            "4422  cellular   13   jan       330         3     -1         0  unknown   \n",
            "4451   unknown    2   jun       659         2     -1         0  unknown   \n",
            "4452  cellular   20   nov       677         1     -1         0  unknown   \n",
            "4458  cellular   18   may       801         5    355         2  failure   \n",
            "\n",
            "     deposit  \n",
            "29       yes  \n",
            "39       yes  \n",
            "56       yes  \n",
            "66       yes  \n",
            "103      yes  \n",
            "...      ...  \n",
            "4411     yes  \n",
            "4422     yes  \n",
            "4451     yes  \n",
            "4452     yes  \n",
            "4458     yes  \n",
            "\n",
            "[243 rows x 17 columns]\n"
          ]
        }
      ]
    },
    {
      "cell_type": "code",
      "source": [
        "not_subscribed = df[df['deposit'] == 'no']\n",
        "print(not_subscribed)"
      ],
      "metadata": {
        "colab": {
          "base_uri": "https://localhost:8080/"
        },
        "id": "yeONGTaQ9xl_",
        "outputId": "157178d7-a826-4231-8226-61607132d7c6"
      },
      "execution_count": null,
      "outputs": [
        {
          "output_type": "stream",
          "name": "stdout",
          "text": [
            "      age          job   marital  education default  balance housing loan  \\\n",
            "0      76      retired   married  secondary      no   2302.0      no   no   \n",
            "3      41  blue-collar   married  secondary      no    356.0     yes   no   \n",
            "6      59      retired   married  secondary      no    136.0      no   no   \n",
            "7      34  blue-collar   married    primary      no   5299.0     yes   no   \n",
            "9      44  blue-collar   married  secondary      no    879.0     yes   no   \n",
            "...   ...          ...       ...        ...     ...      ...     ...  ...   \n",
            "4457   43   management   married   tertiary      no   1336.0     yes  yes   \n",
            "4460   54      retired   married  secondary      no    522.0      no  yes   \n",
            "4461   33   management   married   tertiary      no    133.0     yes   no   \n",
            "4464   31   technician    single  secondary      no    628.0     yes   no   \n",
            "4465   70      retired  divorced    primary      no    383.0      no   no   \n",
            "\n",
            "        contact  day month  duration  campaign  pdays  previous poutcome  \\\n",
            "0     telephone    5   feb       110         1     87         2  failure   \n",
            "3      cellular   14   may        90         5     -1         0  unknown   \n",
            "6      cellular    6   aug       301         4     -1         0  unknown   \n",
            "7       unknown   26   jun        75         5     -1         0  unknown   \n",
            "9      cellular    3   apr       383         1     -1         0  unknown   \n",
            "...         ...  ...   ...       ...       ...    ...       ...      ...   \n",
            "4457   cellular   27   may        82         2    309         1  failure   \n",
            "4460   cellular   14   jul        81         3     -1         0  unknown   \n",
            "4461    unknown   26   may       308         4     -1         0  unknown   \n",
            "4464    unknown   12   may      1083         2     -1         0  unknown   \n",
            "4465   cellular   28   apr        50         2     -1         0  unknown   \n",
            "\n",
            "     deposit  \n",
            "0         no  \n",
            "3         no  \n",
            "6         no  \n",
            "7         no  \n",
            "9         no  \n",
            "...      ...  \n",
            "4457      no  \n",
            "4460      no  \n",
            "4461      no  \n",
            "4464      no  \n",
            "4465      no  \n",
            "\n",
            "[2354 rows x 17 columns]\n"
          ]
        }
      ]
    },
    {
      "cell_type": "code",
      "source": [
        "loan_subscribed = df[(df['deposit'] == 'yes') & ((df['housing'] == 'yes') | (df['loan'] == 'yes'))]\n",
        "print(loan_subscribed)"
      ],
      "metadata": {
        "colab": {
          "base_uri": "https://localhost:8080/"
        },
        "id": "Q0FjqgT_-EXr",
        "outputId": "4370060f-b8f3-4d6e-fe1a-65ff78c5a838"
      },
      "execution_count": null,
      "outputs": [
        {
          "output_type": "stream",
          "name": "stdout",
          "text": [
            "      age          job   marital  education default  balance housing loan  \\\n",
            "2      51   management   married   tertiary      no   2455.0     yes   no   \n",
            "4      51   technician   married  secondary      no  -1944.0     yes   no   \n",
            "15     37   management    single   tertiary      no    455.0     yes   no   \n",
            "17     24       admin.    single   tertiary      no      0.0     yes   no   \n",
            "21     33       admin.   married   tertiary      no     79.0     yes   no   \n",
            "...   ...          ...       ...        ...     ...      ...     ...  ...   \n",
            "4454   30  blue-collar    single  secondary      no    155.0     yes  yes   \n",
            "4458   32  blue-collar   married    primary      no   -454.0     yes  yes   \n",
            "4459   37   technician    single  secondary      no   3326.0     yes   no   \n",
            "4462   39     services  divorced  secondary      no    687.0     yes   no   \n",
            "4463   40       admin.    single  secondary      no   2040.0     yes   no   \n",
            "\n",
            "       contact  day month  duration  campaign  pdays  previous poutcome  \\\n",
            "2     cellular   21   jul       553         1     -1         0  unknown   \n",
            "4     cellular    7   may       623         1     -1         0  unknown   \n",
            "15    cellular   13   aug       904         6     -1         0  unknown   \n",
            "17    cellular   27   may       122         2     -1         0  unknown   \n",
            "21    cellular    5   may       389         1    195         4  success   \n",
            "...        ...  ...   ...       ...       ...    ...       ...      ...   \n",
            "4454  cellular    9   jul      1426         3     -1         0  unknown   \n",
            "4458  cellular   18   may       801         5    355         2  failure   \n",
            "4459   unknown   21   may       799         1     -1         0  unknown   \n",
            "4462  cellular    9   jul       869         1     -1         0  unknown   \n",
            "4463  cellular   18   may       906         2    350         2  failure   \n",
            "\n",
            "     deposit  \n",
            "2        yes  \n",
            "4        yes  \n",
            "15       yes  \n",
            "17       yes  \n",
            "21       yes  \n",
            "...      ...  \n",
            "4454     yes  \n",
            "4458     yes  \n",
            "4459     yes  \n",
            "4462     yes  \n",
            "4463     yes  \n",
            "\n",
            "[893 rows x 17 columns]\n"
          ]
        }
      ]
    },
    {
      "cell_type": "code",
      "source": [
        "secondary_not_subscribed = df[(df['education'] == 'secondary') & (df['deposit'] == 'no')]\n",
        "print(secondary_not_subscribed)"
      ],
      "metadata": {
        "colab": {
          "base_uri": "https://localhost:8080/"
        },
        "id": "-R5HZRAF-Yd4",
        "outputId": "e9bcf328-ef94-4253-cdd3-3c0d83e7c6db"
      },
      "execution_count": null,
      "outputs": [
        {
          "output_type": "stream",
          "name": "stdout",
          "text": [
            "      age          job  marital  education default  balance housing loan  \\\n",
            "0      76      retired  married  secondary      no   2302.0      no   no   \n",
            "3      41  blue-collar  married  secondary      no    356.0     yes   no   \n",
            "6      59      retired  married  secondary      no    136.0      no   no   \n",
            "9      44  blue-collar  married  secondary      no    879.0     yes   no   \n",
            "10     34     services  married  secondary      no   1637.0     yes   no   \n",
            "...   ...          ...      ...        ...     ...      ...     ...  ...   \n",
            "4446   35     services  married  secondary      no      0.0     yes   no   \n",
            "4453   31     services  married  secondary      no    505.0      no   no   \n",
            "4456   54  blue-collar  married  secondary      no   -102.0     yes   no   \n",
            "4460   54      retired  married  secondary      no    522.0      no  yes   \n",
            "4464   31   technician   single  secondary      no    628.0     yes   no   \n",
            "\n",
            "        contact  day month  duration  campaign  pdays  previous poutcome  \\\n",
            "0     telephone    5   feb       110         1     87         2  failure   \n",
            "3      cellular   14   may        90         5     -1         0  unknown   \n",
            "6      cellular    6   aug       301         4     -1         0  unknown   \n",
            "9      cellular    3   apr       383         1     -1         0  unknown   \n",
            "10     cellular   21   nov       107         4     -1         0  unknown   \n",
            "...         ...  ...   ...       ...       ...    ...       ...      ...   \n",
            "4446   cellular   24   jul       810         1     -1         0  unknown   \n",
            "4453   cellular   11   jul       773         3     -1         0  unknown   \n",
            "4456   cellular   27   aug       164         7     -1         0  unknown   \n",
            "4460   cellular   14   jul        81         3     -1         0  unknown   \n",
            "4464    unknown   12   may      1083         2     -1         0  unknown   \n",
            "\n",
            "     deposit  \n",
            "0         no  \n",
            "3         no  \n",
            "6         no  \n",
            "9         no  \n",
            "10        no  \n",
            "...      ...  \n",
            "4446      no  \n",
            "4453      no  \n",
            "4456      no  \n",
            "4460      no  \n",
            "4464      no  \n",
            "\n",
            "[1229 rows x 17 columns]\n"
          ]
        }
      ]
    },
    {
      "cell_type": "code",
      "source": [
        "filtered_education_balance = df[df['age'] <= 30][['education', 'balance']]\n",
        "print(filtered_education_balance)"
      ],
      "metadata": {
        "colab": {
          "base_uri": "https://localhost:8080/"
        },
        "id": "px_uH2Mp-jJm",
        "outputId": "d8fd27d7-7abf-452b-993e-be62f8a07daa"
      },
      "execution_count": null,
      "outputs": [
        {
          "output_type": "stream",
          "name": "stdout",
          "text": [
            "      education  balance\n",
            "17     tertiary      0.0\n",
            "22      primary    544.0\n",
            "26    secondary     30.0\n",
            "27    secondary    195.0\n",
            "40    secondary    743.0\n",
            "...         ...      ...\n",
            "4440   tertiary    674.0\n",
            "4448  secondary    535.0\n",
            "4449  secondary     81.0\n",
            "4454  secondary    155.0\n",
            "4455   tertiary    265.0\n",
            "\n",
            "[809 rows x 2 columns]\n"
          ]
        }
      ]
    },
    {
      "cell_type": "code",
      "source": [
        "subscribed_successful_campaign = df[(df['deposit'] == 'yes') & (df['poutcome'] == 'success')]\n",
        "print(subscribed_successful_campaign)"
      ],
      "metadata": {
        "colab": {
          "base_uri": "https://localhost:8080/"
        },
        "id": "OHPC3OjyR9CT",
        "outputId": "54c7525f-c8a6-4f6a-ac66-7da88ce40f33"
      },
      "execution_count": null,
      "outputs": [
        {
          "output_type": "stream",
          "name": "stdout",
          "text": [
            "      age            job   marital  education default  balance housing loan  \\\n",
            "19     76  self-employed   married    unknown      no   4984.0      no   no   \n",
            "21     33         admin.   married   tertiary      no     79.0     yes   no   \n",
            "45     71        retired  divorced  secondary      no      0.0      no   no   \n",
            "51     68        retired   married  secondary      no   1146.0      no   no   \n",
            "52     46     management   married   tertiary      no    273.0     yes   no   \n",
            "...   ...            ...       ...        ...     ...      ...     ...  ...   \n",
            "4338   38         admin.  divorced  secondary      no     19.0     yes   no   \n",
            "4372   20        student    single  secondary      no    215.0      no   no   \n",
            "4376   42     technician   married  secondary      no    994.0     yes   no   \n",
            "4408   29      housemaid    single   tertiary      no     19.0      no   no   \n",
            "4448   27    blue-collar    single  secondary      no    535.0      no   no   \n",
            "\n",
            "        contact  day month  duration  campaign  pdays  previous poutcome  \\\n",
            "19    telephone   28   apr       403         1    182         1  success   \n",
            "21     cellular    5   may       389         1    195         4  success   \n",
            "45     cellular   26   feb       771         1    171         1  success   \n",
            "51     cellular   13   may       356         1     71         5  success   \n",
            "52     cellular   18   mar       910         2    184         4  success   \n",
            "...         ...  ...   ...       ...       ...    ...       ...      ...   \n",
            "4338   cellular    5   feb      1130         3    251         2  success   \n",
            "4372   cellular   24   feb       175         1     92         6  success   \n",
            "4376   cellular   12   nov       227         3     93         6  success   \n",
            "4408   cellular    4   may       268         1     88         4  success   \n",
            "4448   cellular   16   aug       265         3     95         4  success   \n",
            "\n",
            "     deposit  \n",
            "19       yes  \n",
            "21       yes  \n",
            "45       yes  \n",
            "51       yes  \n",
            "52       yes  \n",
            "...      ...  \n",
            "4338     yes  \n",
            "4372     yes  \n",
            "4376     yes  \n",
            "4408     yes  \n",
            "4448     yes  \n",
            "\n",
            "[392 rows x 17 columns]\n"
          ]
        }
      ]
    },
    {
      "cell_type": "code",
      "source": [
        "unemployed_not_subscribed = df.loc[df['deposit'] == 'no']\n",
        "print(unemployed_not_subscribed)"
      ],
      "metadata": {
        "colab": {
          "base_uri": "https://localhost:8080/"
        },
        "id": "qDx9ma6vZgJi",
        "outputId": "fa608614-423f-4407-aa00-f91b106ad0f9"
      },
      "execution_count": null,
      "outputs": [
        {
          "output_type": "stream",
          "name": "stdout",
          "text": [
            "      age          job   marital  education default  balance housing loan  \\\n",
            "0      76      retired   married  secondary      no   2302.0      no   no   \n",
            "3      41  blue-collar   married  secondary      no    356.0     yes   no   \n",
            "6      59      retired   married  secondary      no    136.0      no   no   \n",
            "7      34  blue-collar   married    primary      no   5299.0     yes   no   \n",
            "9      44  blue-collar   married  secondary      no    879.0     yes   no   \n",
            "...   ...          ...       ...        ...     ...      ...     ...  ...   \n",
            "4457   43   management   married   tertiary      no   1336.0     yes  yes   \n",
            "4460   54      retired   married  secondary      no    522.0      no  yes   \n",
            "4461   33   management   married   tertiary      no    133.0     yes   no   \n",
            "4464   31   technician    single  secondary      no    628.0     yes   no   \n",
            "4465   70      retired  divorced    primary      no    383.0      no   no   \n",
            "\n",
            "        contact  day month  duration  campaign  pdays  previous poutcome  \\\n",
            "0     telephone    5   feb       110         1     87         2  failure   \n",
            "3      cellular   14   may        90         5     -1         0  unknown   \n",
            "6      cellular    6   aug       301         4     -1         0  unknown   \n",
            "7       unknown   26   jun        75         5     -1         0  unknown   \n",
            "9      cellular    3   apr       383         1     -1         0  unknown   \n",
            "...         ...  ...   ...       ...       ...    ...       ...      ...   \n",
            "4457   cellular   27   may        82         2    309         1  failure   \n",
            "4460   cellular   14   jul        81         3     -1         0  unknown   \n",
            "4461    unknown   26   may       308         4     -1         0  unknown   \n",
            "4464    unknown   12   may      1083         2     -1         0  unknown   \n",
            "4465   cellular   28   apr        50         2     -1         0  unknown   \n",
            "\n",
            "     deposit  \n",
            "0         no  \n",
            "3         no  \n",
            "6         no  \n",
            "7         no  \n",
            "9         no  \n",
            "...      ...  \n",
            "4457      no  \n",
            "4460      no  \n",
            "4461      no  \n",
            "4464      no  \n",
            "4465      no  \n",
            "\n",
            "[2354 rows x 17 columns]\n"
          ]
        }
      ]
    },
    {
      "cell_type": "markdown",
      "source": [],
      "metadata": {
        "id": "wrGP0NvGDoAF"
      }
    }
  ]
}